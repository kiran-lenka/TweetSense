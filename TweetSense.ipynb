{
  "nbformat": 4,
  "nbformat_minor": 0,
  "metadata": {
    "colab": {
      "name": "TweetSense",
      "provenance": [],
      "collapsed_sections": [],
      "include_colab_link": true
    },
    "kernelspec": {
      "name": "python3",
      "display_name": "Python 3"
    }
  },
  "cells": [
    {
      "cell_type": "markdown",
      "metadata": {
        "id": "view-in-github",
        "colab_type": "text"
      },
      "source": [
        "<a href=\"https://colab.research.google.com/github/kiran-lenka/TweetSense/blob/main/TweetSense.ipynb\" target=\"_parent\"><img src=\"https://colab.research.google.com/assets/colab-badge.svg\" alt=\"Open In Colab\"/></a>"
      ]
    },
    {
      "cell_type": "markdown",
      "metadata": {
        "id": "SJtkzkbu32vK"
      },
      "source": [
        "# Information Classification from Social Media during pandemic\n"
      ]
    },
    {
      "cell_type": "markdown",
      "metadata": {
        "id": "cLfMufxw4Kzl"
      },
      "source": [
        "#Import Libraries "
      ]
    },
    {
      "cell_type": "code",
      "metadata": {
        "id": "PF_BLctzu_EP",
        "colab": {
          "base_uri": "https://localhost:8080/"
        },
        "outputId": "c697296b-132d-4981-9cb0-cf7a88ac3a85"
      },
      "source": [
        "import matplotlib.pyplot as plt\n",
        "import pandas as pd\n",
        "import numpy as np\n",
        "import seaborn as sns\n",
        "import nltk\n",
        "import gdown\n",
        "\n",
        "# Natural Language Processing\n",
        "from nltk.tokenize import word_tokenize\n",
        "from sklearn.feature_extraction import _stop_words\n",
        "from sklearn.feature_extraction.text import CountVectorizer, TfidfVectorizer\n",
        "from sklearn.metrics import classification_report\n",
        "from nltk.corpus import stopwords\n",
        "\n",
        "# Modeling\n",
        "from sklearn.linear_model import LogisticRegression\n",
        "from sklearn.model_selection import train_test_split, GridSearchCV\n",
        "from sklearn.preprocessing import LabelEncoder\n",
        "from sklearn.pipeline import Pipeline\n",
        "from sklearn.naive_bayes import MultinomialNB\n",
        "from sklearn import metrics\n",
        "from sklearn.metrics import accuracy_score, recall_score, precision_score, confusion_matrix\n",
        "\n",
        "nltk.download('punkt')\n",
        "nltk.download('stopwords')"
      ],
      "execution_count": null,
      "outputs": [
        {
          "output_type": "stream",
          "name": "stdout",
          "text": [
            "[nltk_data] Downloading package punkt to /root/nltk_data...\n",
            "[nltk_data]   Unzipping tokenizers/punkt.zip.\n",
            "[nltk_data] Downloading package stopwords to /root/nltk_data...\n",
            "[nltk_data]   Unzipping corpora/stopwords.zip.\n"
          ]
        },
        {
          "output_type": "execute_result",
          "data": {
            "text/plain": [
              "True"
            ]
          },
          "metadata": {},
          "execution_count": 1
        }
      ]
    },
    {
      "cell_type": "markdown",
      "metadata": {
        "id": "1j90zvDX4UDJ"
      },
      "source": [
        "#Data Cleaning function\n"
      ]
    },
    {
      "cell_type": "code",
      "metadata": {
        "id": "-si8vL20DNwc"
      },
      "source": [
        "def clean_data(dataframe):\n",
        "\n",
        "    # Drop duplicate rows\n",
        "    dataframe.drop_duplicates(subset='tweet', inplace=True)\n",
        "    \n",
        "    # Drop Null entries\n",
        "    dataframe.dropna(inplace=True)\n",
        "\n",
        "    # Transform all text to lowercase\n",
        "    dataframe['tweet'] = dataframe['tweet'].str.lower()\n",
        "    \n",
        "    # Remove punctation\n",
        "    dataframe['tweet'] = dataframe['tweet'].str.replace('[^\\w\\s]',' ')\n",
        "\n",
        "    # Remove numbers \n",
        "    dataframe['tweet'] = dataframe['tweet'].str.replace('[^A-Za-z]',' ')\n",
        "\n",
        "    # Make sure any double-spaces are single \n",
        "    dataframe['tweet'] = dataframe['tweet'].str.replace('  ',' ')\n",
        "    dataframe['tweet'] = dataframe['tweet'].str.replace('  ',' ')\n",
        "\n",
        "    return dataframe"
      ],
      "execution_count": null,
      "outputs": []
    },
    {
      "cell_type": "markdown",
      "metadata": {
        "id": "iGzxMFpQ4ruI"
      },
      "source": [
        "##Importing data and cleaning"
      ]
    },
    {
      "cell_type": "code",
      "metadata": {
        "id": "QOcO-dvVDWgh",
        "colab": {
          "base_uri": "https://localhost:8080/"
        },
        "outputId": "597b65c4-bce9-43e2-c786-54e856bad34f"
      },
      "source": [
        "gdown.download('https://drive.google.com/uc?id=1GqtuVHDnZ4RaDFCfQnD09_U8W8iOcRys','TweetsDataset.csv',quiet=False)\n",
        "df = pd.read_csv('TweetsDataset.csv', header = 0)\n",
        "clean_data(df)\n",
        "df.drop(columns=['id'], inplace = True)\n",
        "print(\"Data shape: \",df.shape)\n",
        "print(df['label'].value_counts())"
      ],
      "execution_count": null,
      "outputs": [
        {
          "output_type": "stream",
          "name": "stderr",
          "text": [
            "Downloading...\n",
            "From: https://drive.google.com/uc?id=1GqtuVHDnZ4RaDFCfQnD09_U8W8iOcRys\n",
            "To: /content/TweetsDataset.csv\n",
            "100%|██████████| 196k/196k [00:00<00:00, 65.7MB/s]"
          ]
        },
        {
          "output_type": "stream",
          "name": "stdout",
          "text": [
            "Data shape:  (921, 2)\n",
            "Irrelevant    427\n",
            "Report        285\n",
            "Awareness     137\n",
            "Treatment      72\n",
            "Name: label, dtype: int64\n"
          ]
        },
        {
          "output_type": "stream",
          "name": "stderr",
          "text": [
            "\n"
          ]
        }
      ]
    },
    {
      "cell_type": "markdown",
      "metadata": {
        "id": "PpanRx9Fi1mF"
      },
      "source": [
        "###Upsampling for the lowest two classes\n",
        " "
      ]
    },
    {
      "cell_type": "code",
      "metadata": {
        "id": "hIawYlH_aQac",
        "colab": {
          "base_uri": "https://localhost:8080/"
        },
        "outputId": "43c7622d-ad36-4405-8df1-837dca5bd575"
      },
      "source": [
        "from sklearn.utils import resample\n",
        "df_treatment = df[df['label']=='Treatment']\n",
        "df_awareness = df[df['label']=='Awareness']\n",
        "df_others = df[df['label']!='Treatment']\n",
        "df_upsampled_t = resample(df_treatment,replace = True,n_samples = 250, random_state=42)\n",
        "df_upsampled_a = resample(df_awareness,replace = True,n_samples = 220, random_state=42)\n",
        "df = pd.concat([df_others,df_upsampled_t,df_upsampled_a])\n",
        "print(df['label'].value_counts())"
      ],
      "execution_count": null,
      "outputs": [
        {
          "output_type": "stream",
          "name": "stdout",
          "text": [
            "Irrelevant    427\n",
            "Awareness     357\n",
            "Report        285\n",
            "Treatment     250\n",
            "Name: label, dtype: int64\n"
          ]
        }
      ]
    },
    {
      "cell_type": "code",
      "metadata": {
        "id": "mQ3-KjNkoAdp",
        "colab": {
          "base_uri": "https://localhost:8080/"
        },
        "outputId": "583572e9-d36e-4377-9669-072c19f0c7ca"
      },
      "source": [
        "tweet = df['tweet'].str.cat(sep=' ')\n",
        "tweet = tweet.lower()\n",
        "tokens = word_tokenize(tweet)\n",
        "stop_words = set(stopwords.words('english'))\n",
        "tokens = [w for w in tokens if not w in stop_words and w.isalpha()]\n",
        "vocabulary = set(tokens)\n",
        "frequency_dist = nltk.FreqDist(tokens)\n",
        "sorted(frequency_dist,key=frequency_dist.__getitem__, reverse=True)[0:50]"
      ],
      "execution_count": null,
      "outputs": [
        {
          "output_type": "execute_result",
          "data": {
            "text/plain": [
              "['covid',\n",
              " 'coronavirus',\n",
              " 'people',\n",
              " 'us',\n",
              " 'cases',\n",
              " 'new',\n",
              " 'spread',\n",
              " 'virus',\n",
              " 'treatment',\n",
              " 'health',\n",
              " 'home',\n",
              " 'today',\n",
              " 'positive',\n",
              " 'tested',\n",
              " 'help',\n",
              " 'need',\n",
              " 'days',\n",
              " 'stay',\n",
              " 'time',\n",
              " 'patients',\n",
              " 'remdesivir',\n",
              " 'test',\n",
              " 'get',\n",
              " 'breaking',\n",
              " 'take',\n",
              " 'one',\n",
              " 'please',\n",
              " 'pandemic',\n",
              " 'testing',\n",
              " 'trump',\n",
              " 'symptoms',\n",
              " 'news',\n",
              " 'like',\n",
              " 'social',\n",
              " 'first',\n",
              " 'coronavirusoutbreak',\n",
              " 'must',\n",
              " 'protect',\n",
              " 'everyone',\n",
              " 'public',\n",
              " 'vaccine',\n",
              " 'fight',\n",
              " 'cure',\n",
              " 'emergency',\n",
              " 'medical',\n",
              " 'china',\n",
              " 'trial',\n",
              " 'support',\n",
              " 'pm',\n",
              " 'show']"
            ]
          },
          "metadata": {},
          "execution_count": 5
        }
      ]
    },
    {
      "cell_type": "markdown",
      "metadata": {
        "id": "Tou5c0Va5hha"
      },
      "source": [
        "###A visual representation of the vocabulary scaled to frequency"
      ]
    },
    {
      "cell_type": "code",
      "metadata": {
        "id": "2-2BsW13oJpO",
        "colab": {
          "base_uri": "https://localhost:8080/",
          "height": 198
        },
        "outputId": "ccf249ef-0eef-4cb7-9e77-8dfb6f79a124"
      },
      "source": [
        "from wordcloud import WordCloud\n",
        "import matplotlib.pyplot as plt\n",
        "wordcloud = WordCloud().generate_from_frequencies(frequency_dist)\n",
        "plt.imshow(wordcloud)\n",
        "plt.axis(\"off\")\n",
        "plt.show()"
      ],
      "execution_count": null,
      "outputs": [
        {
          "output_type": "display_data",
          "data": {
            "image/png": "[encoded data removed]",
            "text/plain": [
              "<Figure size 432x288 with 1 Axes>"
            ]
          },
          "metadata": {
            "needs_background": "light"
          }
        }
      ]
    },
    {
      "cell_type": "markdown",
      "metadata": {
        "id": "iK84mwzl5q54"
      },
      "source": [
        "## Customised Bar Plot Function"
      ]
    },
    {
      "cell_type": "code",
      "metadata": {
        "id": "tUXu4ii1J8P1"
      },
      "source": [
        "def bar_plot(x, y, title, color):    \n",
        "    \n",
        "    # Set up barplot \n",
        "    plt.figure(figsize=(9,5))\n",
        "    g = sns.barplot(x, y, color = color)    \n",
        "    ax=g\n",
        "\n",
        "    # Label the graph\n",
        "    plt.title(title, fontsize = 15)\n",
        "    plt.xticks(fontsize = 10)\n",
        "\n",
        "    # Enable bar values\n",
        "    # create a list to collect the plt.patches data\n",
        "    totals = []\n",
        "\n",
        "    # find the values and append to list\n",
        "    for p in ax.patches:\n",
        "        totals.append(p.get_width())\n",
        "\n",
        "    # set individual bar lables using above list\n",
        "    total = sum(totals)\n",
        "\n",
        "    # set individual bar lables using above list\n",
        "    for p in ax.patches:\n",
        "        # get_width pulls left or right; get_y pushes up or down\n",
        "        ax.text(p.get_width()+.3, p.get_y()+.38, \\\n",
        "                int(p.get_width()), fontsize=10)"
      ],
      "execution_count": null,
      "outputs": []
    },
    {
      "cell_type": "markdown",
      "metadata": {
        "id": "zXs21TWq51FW"
      },
      "source": [
        "Changing the tag notation from string to numeric"
      ]
    },
    {
      "cell_type": "code",
      "metadata": {
        "id": "UKhc-893FI2_",
        "colab": {
          "base_uri": "https://localhost:8080/"
        },
        "outputId": "ba56f63d-1eea-483b-ce62-95e1516ada72"
      },
      "source": [
        " my_tags = ['Awareness', 'Irrelevant', 'Report', 'Treatment']\n",
        "Encoder = LabelEncoder()\n",
        "df['label'] = Encoder.fit_transform(df['label'])\n",
        "print(df['label'].unique())\n",
        "name_mapping = dict(zip(Encoder.classes_, Encoder.transform(Encoder.classes_)))\n",
        "print(name_mapping)\n"
      ],
      "execution_count": null,
      "outputs": [
        {
          "output_type": "stream",
          "name": "stdout",
          "text": [
            "[0 1 2 3]\n",
            "{'Awareness': 0, 'Irrelevant': 1, 'Report': 2, 'Treatment': 3}\n"
          ]
        }
      ]
    },
    {
      "cell_type": "markdown",
      "metadata": {
        "id": "B61h2wYSJ8QW"
      },
      "source": [
        "# Natural Language Processing (NLP)"
      ]
    },
    {
      "cell_type": "markdown",
      "metadata": {
        "id": "TzzqNO-MJ8QX"
      },
      "source": [
        "###Using Count Vectorizer  explore the most used words and combinations of words from each category "
      ]
    },
    {
      "cell_type": "markdown",
      "metadata": {
        "id": "q8RMud9d_y0-"
      },
      "source": [
        "###**Ngram Range = (1,1)**"
      ]
    },
    {
      "cell_type": "markdown",
      "metadata": {
        "id": "bcWdDy-Z9k58"
      },
      "source": [
        "*   For the Awareness label"
      ]
    },
    {
      "cell_type": "code",
      "metadata": {
        "id": "Oc1ffu9_J8Qw",
        "colab": {
          "base_uri": "https://localhost:8080/"
        },
        "outputId": "d91d5369-bb26-489b-9c1a-e8032d62e463"
      },
      "source": [
        "mask_no = df['label'] == 0\n",
        "awareness_tweets = df[mask_no]['tweet']\n",
        "\n",
        "# Instantiate a CountVectorizer = CountVectorizer(stop_words = 'english')\n",
        "cv_awareness = CountVectorizer(stop_words = 'english')\n",
        "\n",
        "# Fit and transform the vectorizer on our corpus\n",
        "cvec_awareness = cv_awareness.fit_transform(awareness_tweets)\n",
        "\n",
        "# Convert into a DataFrame\n",
        "cvec_awareness_df = pd.DataFrame(cvec_awareness.toarray(),columns=cv_awareness.get_feature_names())\n",
        "\n",
        "# Inspect head \n",
        "print(cvec_awareness_df.shape) "
      ],
      "execution_count": null,
      "outputs": [
        {
          "output_type": "stream",
          "name": "stdout",
          "text": [
            "(357, 1228)\n"
          ]
        },
        {
          "output_type": "stream",
          "name": "stderr",
          "text": [
            "/usr/local/lib/python3.7/dist-packages/sklearn/utils/deprecation.py:87: FutureWarning: Function get_feature_names is deprecated; get_feature_names is deprecated in 1.0 and will be removed in 1.2. Please use get_feature_names_out instead.\n",
            "  warnings.warn(msg, category=FutureWarning)\n"
          ]
        }
      ]
    },
    {
      "cell_type": "markdown",
      "metadata": {
        "id": "BHFob0U7909h"
      },
      "source": [
        "*    For the report label\n",
        "\n",
        "\n"
      ]
    },
    {
      "cell_type": "code",
      "metadata": {
        "id": "9KVnzugsK86x",
        "colab": {
          "base_uri": "https://localhost:8080/"
        },
        "outputId": "4fb608b0-7293-43eb-9ffe-837dd8bfafb2"
      },
      "source": [
        "mask_no = df['label'] == 2\n",
        "report_tweets = df[mask_no]['tweet']\n",
        "\n",
        "# Instantiate a CountVectorizer\n",
        "cv_report = CountVectorizer(stop_words = 'english')\n",
        "\n",
        "# Fit and transform the vectorizer on our corpus\n",
        "cvec_report = cv_report.fit_transform(report_tweets)\n",
        "\n",
        "# Convert into a DataFrame\n",
        "cvec_report_df = pd.DataFrame(cvec_report.toarray(),\n",
        "                   columns=cv_report.get_feature_names())\n",
        "\n",
        "# Inspect head \n",
        "print(cvec_report_df.shape)"
      ],
      "execution_count": null,
      "outputs": [
        {
          "output_type": "stream",
          "name": "stdout",
          "text": [
            "(285, 2335)\n"
          ]
        },
        {
          "output_type": "stream",
          "name": "stderr",
          "text": [
            "/usr/local/lib/python3.7/dist-packages/sklearn/utils/deprecation.py:87: FutureWarning: Function get_feature_names is deprecated; get_feature_names is deprecated in 1.0 and will be removed in 1.2. Please use get_feature_names_out instead.\n",
            "  warnings.warn(msg, category=FutureWarning)\n"
          ]
        }
      ]
    },
    {
      "cell_type": "markdown",
      "metadata": {
        "id": "FC1Da91_96DG"
      },
      "source": [
        "\n",
        "*   For the Treatment label\n",
        "\n"
      ]
    },
    {
      "cell_type": "code",
      "metadata": {
        "id": "ztsin23IJ8Q2",
        "colab": {
          "base_uri": "https://localhost:8080/"
        },
        "outputId": "ced3e5cd-5089-4f17-e55a-6a27ac457556"
      },
      "source": [
        "mask_no = df['label'] == 3\n",
        "treatment_tweets = df[mask_no]['tweet']\n",
        "\n",
        "# Instantiate a CountVectorizer\n",
        "cv_treatment = CountVectorizer(stop_words = 'english')\n",
        "\n",
        "# Fit and transform the vectorizer on our corpus\n",
        "cvec_treatment = cv_treatment.fit_transform(treatment_tweets)\n",
        "\n",
        "# Convert into a DataFrame\n",
        "cvec_treatment_df = pd.DataFrame(cvec_treatment.toarray(),\n",
        "                   columns=cv_treatment.get_feature_names())\n",
        "\n",
        "# Inspect head \n",
        "print(cvec_treatment_df.shape)"
      ],
      "execution_count": null,
      "outputs": [
        {
          "output_type": "stream",
          "name": "stdout",
          "text": [
            "(250, 811)\n"
          ]
        },
        {
          "output_type": "stream",
          "name": "stderr",
          "text": [
            "/usr/local/lib/python3.7/dist-packages/sklearn/utils/deprecation.py:87: FutureWarning: Function get_feature_names is deprecated; get_feature_names is deprecated in 1.0 and will be removed in 1.2. Please use get_feature_names_out instead.\n",
            "  warnings.warn(msg, category=FutureWarning)\n"
          ]
        }
      ]
    },
    {
      "cell_type": "markdown",
      "metadata": {
        "id": "dvxDcSv__DzV"
      },
      "source": [
        "\n",
        "*   For the Irrelevant label\n",
        "\n"
      ]
    },
    {
      "cell_type": "code",
      "metadata": {
        "id": "ESDtx4POK8NI",
        "colab": {
          "base_uri": "https://localhost:8080/"
        },
        "outputId": "f7e61a60-723f-4023-e2f9-8fee3d5aa6cb"
      },
      "source": [
        "mask_no = df['label'] == 1\n",
        "irrelevant_tweets = df[mask_no]['tweet']\n",
        "\n",
        "# Instantiate a CountVectorizer\n",
        "cv_irrelevant = CountVectorizer(stop_words = 'english')\n",
        "\n",
        "# Fit and transform the vectorizer on our corpus\n",
        "cvec_irrelevant = cv_irrelevant.fit_transform(irrelevant_tweets)\n",
        "\n",
        "# Convert into a DataFrame\n",
        "cvec_irrelevant_df = pd.DataFrame(cvec_irrelevant.toarray(),\n",
        "                   columns=cv_irrelevant.get_feature_names())\n",
        "\n",
        "# Inspect head \n",
        "print(cvec_irrelevant_df.shape)"
      ],
      "execution_count": null,
      "outputs": [
        {
          "output_type": "stream",
          "name": "stdout",
          "text": [
            "(427, 3198)\n"
          ]
        },
        {
          "output_type": "stream",
          "name": "stderr",
          "text": [
            "/usr/local/lib/python3.7/dist-packages/sklearn/utils/deprecation.py:87: FutureWarning: Function get_feature_names is deprecated; get_feature_names is deprecated in 1.0 and will be removed in 1.2. Please use get_feature_names_out instead.\n",
            "  warnings.warn(msg, category=FutureWarning)\n"
          ]
        }
      ]
    },
    {
      "cell_type": "markdown",
      "metadata": {
        "id": "pvEM4fLj_PdP"
      },
      "source": [
        "## Set up variables to figure out top 10 unigrams in Each label"
      ]
    },
    {
      "cell_type": "code",
      "metadata": {
        "id": "auFD8gqUQs1c",
        "colab": {
          "base_uri": "https://localhost:8080/",
          "height": 393
        },
        "outputId": "12a26d6b-9fc6-4062-ded4-fdb4a0496ac0"
      },
      "source": [
        "#Awareness Label\n",
        "wc_A = cvec_awareness_df.sum(axis = 0)\n",
        "awareness_top10 = wc_A.sort_values(ascending=False).head(10)\n",
        "bar_plot(awareness_top10.values, awareness_top10.index, 'Top 10 unigrams on Awareness','r') "
      ],
      "execution_count": null,
      "outputs": [
        {
          "output_type": "stream",
          "name": "stderr",
          "text": [
            "/usr/local/lib/python3.7/dist-packages/seaborn/_decorators.py:43: FutureWarning: Pass the following variables as keyword args: x, y. From version 0.12, the only valid positional argument will be `data`, and passing other arguments without an explicit keyword will result in an error or misinterpretation.\n",
            "  FutureWarning\n"
          ]
        },
        {
          "output_type": "display_data",
          "data": {
            "image/png": "[encoded data removed]",
            "text/plain": [
              "<Figure size 648x360 with 1 Axes>"
            ]
          },
          "metadata": {
            "needs_background": "light"
          }
        }
      ]
    },
    {
      "cell_type": "code",
      "metadata": {
        "id": "T2NPTicNP0xt",
        "colab": {
          "base_uri": "https://localhost:8080/",
          "height": 393
        },
        "outputId": "6ad84dd9-09a4-4494-e358-91fb503cb157"
      },
      "source": [
        "#Irrelevant Label\n",
        "wc_I = cvec_irrelevant_df.sum(axis = 0)\n",
        "irrelevant_top10 = wc_I.sort_values(ascending=False).head(10)\n",
        "bar_plot(irrelevant_top10.values, irrelevant_top10.index, 'Top 10 unigrams on Irrelevant','r')"
      ],
      "execution_count": null,
      "outputs": [
        {
          "output_type": "stream",
          "name": "stderr",
          "text": [
            "/usr/local/lib/python3.7/dist-packages/seaborn/_decorators.py:43: FutureWarning: Pass the following variables as keyword args: x, y. From version 0.12, the only valid positional argument will be `data`, and passing other arguments without an explicit keyword will result in an error or misinterpretation.\n",
            "  FutureWarning\n"
          ]
        },
        {
          "output_type": "display_data",
          "data": {
            "image/png": "[encoded data removed]",
            "text/plain": [
              "<Figure size 648x360 with 1 Axes>"
            ]
          },
          "metadata": {
            "needs_background": "light"
          }
        }
      ]
    },
    {
      "cell_type": "code",
      "metadata": {
        "id": "KgodMOdqRouy",
        "colab": {
          "base_uri": "https://localhost:8080/",
          "height": 393
        },
        "outputId": "3f92744f-e6d3-450e-8397-6c2ce103649e"
      },
      "source": [
        "#Report Label\n",
        "wc_R = cvec_report_df.sum(axis = 0)\n",
        "report_top10 = wc_R.sort_values(ascending=False).head(10)\n",
        "bar_plot(report_top10.values, report_top10.index, 'Top 10 unigrams on Reports','r')"
      ],
      "execution_count": null,
      "outputs": [
        {
          "output_type": "stream",
          "name": "stderr",
          "text": [
            "/usr/local/lib/python3.7/dist-packages/seaborn/_decorators.py:43: FutureWarning: Pass the following variables as keyword args: x, y. From version 0.12, the only valid positional argument will be `data`, and passing other arguments without an explicit keyword will result in an error or misinterpretation.\n",
            "  FutureWarning\n"
          ]
        },
        {
          "output_type": "display_data",
          "data": {
            "image/png": "[encoded data removed]",
            "text/plain": [
              "<Figure size 648x360 with 1 Axes>"
            ]
          },
          "metadata": {
            "needs_background": "light"
          }
        }
      ]
    },
    {
      "cell_type": "code",
      "metadata": {
        "id": "VxwwPQT9RpO0",
        "colab": {
          "base_uri": "https://localhost:8080/",
          "height": 393
        },
        "outputId": "db2131a6-0fcd-4cda-c756-02d354537eec"
      },
      "source": [
        "#Treatment Label\n",
        "wc_T = cvec_treatment_df.sum(axis = 0)\n",
        "treatment_top10 = wc_T.sort_values(ascending=False).head(10)\n",
        "bar_plot(treatment_top10.values, treatment_top10.index, 'Top 10 unigrams on Treatment','r')"
      ],
      "execution_count": null,
      "outputs": [
        {
          "output_type": "stream",
          "name": "stderr",
          "text": [
            "/usr/local/lib/python3.7/dist-packages/seaborn/_decorators.py:43: FutureWarning: Pass the following variables as keyword args: x, y. From version 0.12, the only valid positional argument will be `data`, and passing other arguments without an explicit keyword will result in an error or misinterpretation.\n",
            "  FutureWarning\n"
          ]
        },
        {
          "output_type": "display_data",
          "data": {
            "image/png": "[encoded data removed]",
            "text/plain": [
              "<Figure size 648x360 with 1 Axes>"
            ]
          },
          "metadata": {
            "needs_background": "light"
          }
        }
      ]
    },
    {
      "cell_type": "markdown",
      "metadata": {
        "id": "qTTkWXDqJ8RI"
      },
      "source": [
        "### Common Unigrams between Top 10 in each label"
      ]
    },
    {
      "cell_type": "code",
      "metadata": {
        "id": "dJYeehlESLXA",
        "colab": {
          "base_uri": "https://localhost:8080/"
        },
        "outputId": "68f04890-ea6e-44ca-b961-09ce2a58db72"
      },
      "source": [
        "# Create list of unique words in top ten\n",
        "awareness_set = set(awareness_top10.index)\n",
        "irrelevant_set = set(irrelevant_top10.index)\n",
        "report_set = set(report_top10.index)\n",
        "treatment_set = set(treatment_top10.index)\n",
        "\n",
        "# Return common words\n",
        "common_unigrams = awareness_set.intersection(irrelevant_set.intersection(report_set.intersection(treatment_set)))\n",
        "common_unigrams"
      ],
      "execution_count": null,
      "outputs": [
        {
          "output_type": "execute_result",
          "data": {
            "text/plain": [
              "{'coronavirus', 'covid'}"
            ]
          },
          "metadata": {},
          "execution_count": 17
        }
      ]
    },
    {
      "cell_type": "markdown",
      "metadata": {
        "id": "8CYjqi7mB5Rq"
      },
      "source": [
        "###**Ngram Range = (2,2)**\n",
        "\n",
        "*  For the Awareness label"
      ]
    },
    {
      "cell_type": "code",
      "metadata": {
        "id": "2O7x4UUOTxN0",
        "colab": {
          "base_uri": "https://localhost:8080/"
        },
        "outputId": "6e329b6a-0b74-40de-d10e-c104dd39ac2a"
      },
      "source": [
        "mask_on = df['label'] == 0\n",
        "awareness_tweets = df[mask_on]['tweet']\n",
        "\n",
        "# Instantiate a CountVectorizer\n",
        "cv_awareness = CountVectorizer(stop_words = 'english', ngram_range=(2,2))\n",
        "\n",
        "# Fit and transform the vectorizer on our corpus\n",
        "cvec_awareness = cv_awareness.fit_transform(awareness_tweets)\n",
        "\n",
        "# Convert into a DataFrame\n",
        "cvec_awareness_df = pd.DataFrame(cvec_awareness.toarray(),\n",
        "                   columns=cv_awareness.get_feature_names())\n",
        "\n",
        "# Inspect head \n",
        "print(cvec_awareness_df.shape) "
      ],
      "execution_count": null,
      "outputs": [
        {
          "output_type": "stream",
          "name": "stdout",
          "text": [
            "(357, 2070)\n"
          ]
        },
        {
          "output_type": "stream",
          "name": "stderr",
          "text": [
            "/usr/local/lib/python3.7/dist-packages/sklearn/utils/deprecation.py:87: FutureWarning: Function get_feature_names is deprecated; get_feature_names is deprecated in 1.0 and will be removed in 1.2. Please use get_feature_names_out instead.\n",
            "  warnings.warn(msg, category=FutureWarning)\n"
          ]
        }
      ]
    },
    {
      "cell_type": "markdown",
      "metadata": {
        "id": "rwsH430RD2GL"
      },
      "source": [
        "\n",
        "*  For the Irrelevant label\n"
      ]
    },
    {
      "cell_type": "code",
      "metadata": {
        "id": "ioZhlh6VT4aU",
        "colab": {
          "base_uri": "https://localhost:8080/"
        },
        "outputId": "9ffb23f8-8d3b-4ae9-f3ce-e7883b056ee1"
      },
      "source": [
        "mask_no = df['label'] == 1\n",
        "irrelevant_tweets = df[mask_no]['tweet']\n",
        "\n",
        "# Instantiate a CountVectorizer\n",
        "cv_irrelevant = CountVectorizer(stop_words = 'english', ngram_range=(2,2))\n",
        "\n",
        "# Fit and transform the vectorizer on our corpus\n",
        "cvec_irrelevant = cv_irrelevant.fit_transform(irrelevant_tweets)\n",
        "\n",
        "# Convert into a DataFrame\n",
        "cvec_irrelevant_df = pd.DataFrame(cvec_irrelevant.toarray(),\n",
        "                   columns=cv_irrelevant.get_feature_names())\n",
        "\n",
        "# Inspect head \n",
        "print(cvec_irrelevant_df.shape)\n"
      ],
      "execution_count": null,
      "outputs": [
        {
          "output_type": "stream",
          "name": "stdout",
          "text": [
            "(427, 5867)\n"
          ]
        },
        {
          "output_type": "stream",
          "name": "stderr",
          "text": [
            "/usr/local/lib/python3.7/dist-packages/sklearn/utils/deprecation.py:87: FutureWarning: Function get_feature_names is deprecated; get_feature_names is deprecated in 1.0 and will be removed in 1.2. Please use get_feature_names_out instead.\n",
            "  warnings.warn(msg, category=FutureWarning)\n"
          ]
        }
      ]
    },
    {
      "cell_type": "markdown",
      "metadata": {
        "id": "chLmlVQFD8Dv"
      },
      "source": [
        "\n",
        "*  For the Report label\n"
      ]
    },
    {
      "cell_type": "code",
      "metadata": {
        "id": "V8t-Xw_sT7sY",
        "colab": {
          "base_uri": "https://localhost:8080/"
        },
        "outputId": "b8138c15-355b-49fc-a891-b7e17d8e5148"
      },
      "source": [
        "mask_no = df['label'] == 2\n",
        "report_tweets = df[mask_no]['tweet']\n",
        "\n",
        "# Instantiate a CountVectorizer\n",
        "cv_report = CountVectorizer(stop_words = 'english', ngram_range=(2,2))\n",
        "\n",
        "# Fit and transform the vectorizer on our corpus\n",
        "cvec_report = cv_report.fit_transform(report_tweets)\n",
        "\n",
        "# Convert into a DataFrame\n",
        "cvec_report_df = pd.DataFrame(cvec_report.toarray(),\n",
        "                   columns=cv_report.get_feature_names())\n",
        "\n",
        "# Inspect head \n",
        "print(cvec_report_df.shape)"
      ],
      "execution_count": null,
      "outputs": [
        {
          "output_type": "stream",
          "name": "stdout",
          "text": [
            "(285, 4432)\n"
          ]
        },
        {
          "output_type": "stream",
          "name": "stderr",
          "text": [
            "/usr/local/lib/python3.7/dist-packages/sklearn/utils/deprecation.py:87: FutureWarning: Function get_feature_names is deprecated; get_feature_names is deprecated in 1.0 and will be removed in 1.2. Please use get_feature_names_out instead.\n",
            "  warnings.warn(msg, category=FutureWarning)\n"
          ]
        }
      ]
    },
    {
      "cell_type": "markdown",
      "metadata": {
        "id": "Vf2vLEJyECPE"
      },
      "source": [
        "\n",
        "*  For the Treatment label\n"
      ]
    },
    {
      "cell_type": "code",
      "metadata": {
        "id": "ZogUOLdyUEkn",
        "colab": {
          "base_uri": "https://localhost:8080/"
        },
        "outputId": "3b5e89ff-1e79-46aa-e715-6a85d54522b1"
      },
      "source": [
        "mask_no = df['label'] == 3\n",
        "treatment_tweets = df[mask_no]['tweet']\n",
        "\n",
        "# Instantiate a CountVectorizer\n",
        "cv_treatment = CountVectorizer(stop_words = 'english', ngram_range=(2,2))\n",
        "\n",
        "# Fit and transform the vectorizer on our corpus\n",
        "cvec_treatment = cv_treatment.fit_transform(treatment_tweets)\n",
        "\n",
        "# Convert into a DataFrame\n",
        "cvec_treatment_df = pd.DataFrame(cvec_treatment.toarray(),\n",
        "                   columns=cv_treatment.get_feature_names())\n",
        "\n",
        "# Inspect head \n",
        "print(cvec_treatment_df.shape)"
      ],
      "execution_count": null,
      "outputs": [
        {
          "output_type": "stream",
          "name": "stdout",
          "text": [
            "(250, 1217)\n"
          ]
        },
        {
          "output_type": "stream",
          "name": "stderr",
          "text": [
            "/usr/local/lib/python3.7/dist-packages/sklearn/utils/deprecation.py:87: FutureWarning: Function get_feature_names is deprecated; get_feature_names is deprecated in 1.0 and will be removed in 1.2. Please use get_feature_names_out instead.\n",
            "  warnings.warn(msg, category=FutureWarning)\n"
          ]
        }
      ]
    },
    {
      "cell_type": "markdown",
      "metadata": {
        "id": "PklGCvewEVq0"
      },
      "source": [
        "## Set up variables to figure out top 10 bigrams in Each label"
      ]
    },
    {
      "cell_type": "code",
      "metadata": {
        "id": "nMFWZL8lUgaS",
        "colab": {
          "base_uri": "https://localhost:8080/",
          "height": 393
        },
        "outputId": "7a287f14-468c-4298-8395-bbc8b2db6b4c"
      },
      "source": [
        "# Awareness label\n",
        "wc_A = cvec_awareness_df.sum(axis = 0)\n",
        "awareness_top10 = wc_A.sort_values(ascending=False).head(10)\n",
        "bar_plot(awareness_top10.values, awareness_top10.index, 'Top 10 bigrams on Awareness','c') "
      ],
      "execution_count": null,
      "outputs": [
        {
          "output_type": "stream",
          "name": "stderr",
          "text": [
            "/usr/local/lib/python3.7/dist-packages/seaborn/_decorators.py:43: FutureWarning: Pass the following variables as keyword args: x, y. From version 0.12, the only valid positional argument will be `data`, and passing other arguments without an explicit keyword will result in an error or misinterpretation.\n",
            "  FutureWarning\n"
          ]
        },
        {
          "output_type": "display_data",
          "data": {
            "image/png": "[encoded data removed]",
            "text/plain": [
              "<Figure size 648x360 with 1 Axes>"
            ]
          },
          "metadata": {
            "needs_background": "light"
          }
        }
      ]
    },
    {
      "cell_type": "code",
      "metadata": {
        "id": "JQxjwlNrTnty",
        "colab": {
          "base_uri": "https://localhost:8080/",
          "height": 393
        },
        "outputId": "5b8d8671-e20d-4270-b705-461eb7bc423b"
      },
      "source": [
        "#Irrelevant label\n",
        "wc_I = cvec_irrelevant_df.sum(axis = 0)\n",
        "irrelevant_top10 = wc_I.sort_values(ascending=False).head(10)\n",
        "bar_plot(irrelevant_top10.values, irrelevant_top10.index, 'Top 10 bigrams on Irrelevant','c')"
      ],
      "execution_count": null,
      "outputs": [
        {
          "output_type": "stream",
          "name": "stderr",
          "text": [
            "/usr/local/lib/python3.7/dist-packages/seaborn/_decorators.py:43: FutureWarning: Pass the following variables as keyword args: x, y. From version 0.12, the only valid positional argument will be `data`, and passing other arguments without an explicit keyword will result in an error or misinterpretation.\n",
            "  FutureWarning\n"
          ]
        },
        {
          "output_type": "display_data",
          "data": {
            "image/png": "[encoded data removed]",
            "text/plain": [
              "<Figure size 648x360 with 1 Axes>"
            ]
          },
          "metadata": {
            "needs_background": "light"
          }
        }
      ]
    },
    {
      "cell_type": "code",
      "metadata": {
        "id": "o4haIsBOUp3t",
        "colab": {
          "base_uri": "https://localhost:8080/",
          "height": 393
        },
        "outputId": "5541e4a7-b759-48f5-d840-a2ea7c417a68"
      },
      "source": [
        "wc_R = cvec_report_df.sum(axis = 0)\n",
        "report_top10 = wc_R.sort_values(ascending=False).head(10)\n",
        "bar_plot(report_top10.values, report_top10.index, 'Top 10 bigrams on Reports','c')"
      ],
      "execution_count": null,
      "outputs": [
        {
          "output_type": "stream",
          "name": "stderr",
          "text": [
            "/usr/local/lib/python3.7/dist-packages/seaborn/_decorators.py:43: FutureWarning: Pass the following variables as keyword args: x, y. From version 0.12, the only valid positional argument will be `data`, and passing other arguments without an explicit keyword will result in an error or misinterpretation.\n",
            "  FutureWarning\n"
          ]
        },
        {
          "output_type": "display_data",
          "data": {
            "image/png": "[encoded data removed]",
            "text/plain": [
              "<Figure size 648x360 with 1 Axes>"
            ]
          },
          "metadata": {
            "needs_background": "light"
          }
        }
      ]
    },
    {
      "cell_type": "code",
      "metadata": {
        "id": "tV1lZST9UxKs",
        "colab": {
          "base_uri": "https://localhost:8080/",
          "height": 393
        },
        "outputId": "2ab3a1f2-c36a-4cd6-ae4a-266335f0278d"
      },
      "source": [
        "# Treatment label\n",
        "wc_T = cvec_treatment_df.sum(axis = 0)\n",
        "treatment_top10 = wc_T.sort_values(ascending=False).head(10)\n",
        "bar_plot(treatment_top10.values, treatment_top10.index, 'Top 10 bigrams on Treatment','c')"
      ],
      "execution_count": null,
      "outputs": [
        {
          "output_type": "stream",
          "name": "stderr",
          "text": [
            "/usr/local/lib/python3.7/dist-packages/seaborn/_decorators.py:43: FutureWarning: Pass the following variables as keyword args: x, y. From version 0.12, the only valid positional argument will be `data`, and passing other arguments without an explicit keyword will result in an error or misinterpretation.\n",
            "  FutureWarning\n"
          ]
        },
        {
          "output_type": "display_data",
          "data": {
            "image/png": "[encoded data removed]",
            "text/plain": [
              "<Figure size 648x360 with 1 Axes>"
            ]
          },
          "metadata": {
            "needs_background": "light"
          }
        }
      ]
    },
    {
      "cell_type": "markdown",
      "metadata": {
        "id": "vGCxwdnaCEo8"
      },
      "source": [
        "###Common bigrams within the top 10 in each label"
      ]
    },
    {
      "cell_type": "code",
      "metadata": {
        "id": "gkY7crpfVgXF",
        "colab": {
          "base_uri": "https://localhost:8080/"
        },
        "outputId": "36a609c9-eb37-4734-9f33-ed0652797256"
      },
      "source": [
        "awareness_set = set(awareness_top10.index)\n",
        "irrelevant_set = set(irrelevant_top10.index)\n",
        "report_set = set(report_top10.index)\n",
        "treatment_set = set(treatment_top10.index)\n",
        "# Return common words\n",
        "common_bigrams = awareness_set.intersection(irrelevant_set.intersection(report_set.intersection(treatment_set)))\n",
        "common_bigrams"
      ],
      "execution_count": null,
      "outputs": [
        {
          "output_type": "execute_result",
          "data": {
            "text/plain": [
              "set()"
            ]
          },
          "metadata": {},
          "execution_count": 26
        }
      ]
    },
    {
      "cell_type": "markdown",
      "metadata": {
        "id": "82CJZtW9J8Rr"
      },
      "source": [
        "### Create custom stop_words list to include common frequent words, since they occur frequently in all labels"
      ]
    },
    {
      "cell_type": "code",
      "metadata": {
        "id": "h6MWGtXFVqEC"
      },
      "source": [
        "custom = stop_words\n",
        "custom = list(custom)\n",
        "common_unigrams = list(common_unigrams)\n",
        "common_bigrams = list(common_bigrams)\n",
        "\n",
        "# Append unigrams to list \n",
        "for i in common_unigrams:\n",
        "    custom.append(i)\n",
        "    \n",
        "# Append bigrams to list \n",
        "for i in common_bigrams:\n",
        "    split_words = i.split(\" \")\n",
        "    for word in split_words:\n",
        "        custom.append(word)"
      ],
      "execution_count": null,
      "outputs": []
    },
    {
      "cell_type": "markdown",
      "metadata": {
        "id": "EMRVN9BNGied"
      },
      "source": [
        "#Modelling\n",
        "\n",
        "Conducting model-prep and using Pipeline and GridSearch to determine the most optimal model to run the data on. "
      ]
    },
    {
      "cell_type": "markdown",
      "metadata": {
        "id": "JTOi2nz7J8R0"
      },
      "source": [
        "### Baseline Score"
      ]
    },
    {
      "cell_type": "code",
      "metadata": {
        "id": "t2iengtxVyUg",
        "colab": {
          "base_uri": "https://localhost:8080/"
        },
        "outputId": "d072b01c-98c7-4ade-d253-8c010626a406"
      },
      "source": [
        "df['label'].value_counts(normalize=True)"
      ],
      "execution_count": null,
      "outputs": [
        {
          "output_type": "execute_result",
          "data": {
            "text/plain": [
              "1    0.323730\n",
              "0    0.270660\n",
              "2    0.216073\n",
              "3    0.189538\n",
              "Name: label, dtype: float64"
            ]
          },
          "metadata": {},
          "execution_count": 28
        }
      ]
    },
    {
      "cell_type": "markdown",
      "metadata": {
        "id": "we4pkJIhJ8R_"
      },
      "source": [
        "### Setting X (predictor) and y (target) variables "
      ]
    },
    {
      "cell_type": "code",
      "metadata": {
        "id": "WusVBQ6GV4ds"
      },
      "source": [
        "X = df['tweet']\n",
        "y = df['label']"
      ],
      "execution_count": null,
      "outputs": []
    },
    {
      "cell_type": "code",
      "metadata": {
        "id": "9wkNTL6imH9D",
        "colab": {
          "base_uri": "https://localhost:8080/"
        },
        "outputId": "ad46b0dc-fe45-4cdf-e770-b0ac4392fa13"
      },
      "source": [
        "df['label'].unique()"
      ],
      "execution_count": null,
      "outputs": [
        {
          "output_type": "execute_result",
          "data": {
            "text/plain": [
              "array([0, 1, 2, 3])"
            ]
          },
          "metadata": {},
          "execution_count": 30
        }
      ]
    },
    {
      "cell_type": "markdown",
      "metadata": {
        "id": "kd83JkqmJ8SF"
      },
      "source": [
        "### Train/Test Split"
      ]
    },
    {
      "cell_type": "code",
      "metadata": {
        "id": "V7t2VxZ-WAqF"
      },
      "source": [
        "X_train, X_test, y_train, y_test = train_test_split(X,y,random_state=420,stratify=y,test_size = 0.1)"
      ],
      "execution_count": null,
      "outputs": []
    },
    {
      "cell_type": "markdown",
      "metadata": {
        "id": "Pr6scRpxJ8SL"
      },
      "source": [
        "### Model 1: CountVectorizer & Logistic Regression "
      ]
    },
    {
      "cell_type": "code",
      "metadata": {
        "id": "DmkyHylrWD6E",
        "colab": {
          "base_uri": "https://localhost:8080/"
        },
        "outputId": "85389934-1590-4130-df72-d1043267015b"
      },
      "source": [
        "pipe = Pipeline([('cvec', CountVectorizer()),    \n",
        "                 ('lr', LogisticRegression(solver='liblinear'))])\n",
        "\n",
        "# Tune GridSearchCV\n",
        "pipe_params = {'cvec__stop_words': [None, 'english', custom],\n",
        "               'cvec__ngram_range': [(1,1), (2,2), (1,3)],\n",
        "               'lr__C': [0.1, 1]}\n",
        "\n",
        "gs = GridSearchCV(pipe, param_grid=pipe_params, cv=10)\n",
        "gs.fit(X_train, y_train);\n",
        "\n",
        "y_pred = gs.predict(X_test)\n",
        "\n",
        "print('Accuracy %s' % accuracy_score(y_pred, y_test))\n",
        "print(classification_report(y_test, y_pred,target_names = my_tags))"
      ],
      "execution_count": null,
      "outputs": [
        {
          "output_type": "stream",
          "name": "stdout",
          "text": [
            "Accuracy 0.8409090909090909\n",
            "              precision    recall  f1-score   support\n",
            "\n",
            "   Awareness       0.86      0.89      0.88        36\n",
            "  Irrelevant       0.76      0.86      0.80        43\n",
            "      Report       0.81      0.61      0.69        28\n",
            "   Treatment       1.00      1.00      1.00        25\n",
            "\n",
            "    accuracy                           0.84       132\n",
            "   macro avg       0.86      0.84      0.84       132\n",
            "weighted avg       0.84      0.84      0.84       132\n",
            "\n"
          ]
        }
      ]
    },
    {
      "cell_type": "markdown",
      "metadata": {
        "id": "BgAsP9OUJ8ST"
      },
      "source": [
        "### Model 2: TfidfVectorize & Logistic Regression"
      ]
    },
    {
      "cell_type": "code",
      "metadata": {
        "id": "SoX4nK2LJ8SV",
        "colab": {
          "base_uri": "https://localhost:8080/"
        },
        "outputId": "cd7844fe-ee68-4504-c506-677defd1ebf5"
      },
      "source": [
        "pipe = Pipeline([('tvect', TfidfVectorizer()),    \n",
        "                 ('lr', LogisticRegression(solver='liblinear'))])\n",
        "\n",
        "# Tune GridSearchCV\n",
        "pipe_params = {'tvect__max_df': [.75, .98, 1.0],\n",
        "               'tvect__min_df': [2, 3, 5],\n",
        "               'tvect__ngram_range': [(1,1), (2,2), (1,3)],\n",
        "               'lr__C': [0.1,1]}\n",
        "\n",
        "gs = GridSearchCV(pipe, param_grid=pipe_params, cv=5)\n",
        "gs.fit(X_train, y_train);\n",
        "y_pred = gs.predict(X_test)\n",
        "\n",
        "print('Accuracy %s' % accuracy_score(y_pred, y_test))\n",
        "print(classification_report(y_test, y_pred,target_names = my_tags))"
      ],
      "execution_count": null,
      "outputs": [
        {
          "output_type": "stream",
          "name": "stdout",
          "text": [
            "Accuracy 0.8636363636363636\n",
            "              precision    recall  f1-score   support\n",
            "\n",
            "   Awareness       0.92      0.92      0.92        36\n",
            "  Irrelevant       0.78      0.93      0.85        43\n",
            "      Report       0.81      0.61      0.69        28\n",
            "   Treatment       1.00      0.96      0.98        25\n",
            "\n",
            "    accuracy                           0.86       132\n",
            "   macro avg       0.88      0.85      0.86       132\n",
            "weighted avg       0.87      0.86      0.86       132\n",
            "\n"
          ]
        }
      ]
    },
    {
      "cell_type": "markdown",
      "metadata": {
        "id": "fxPC5ZuCQU77"
      },
      "source": [
        "###Representation of the best model using Confusion Matrix"
      ]
    },
    {
      "cell_type": "code",
      "metadata": {
        "id": "6hekHz4LP5Me",
        "colab": {
          "base_uri": "https://localhost:8080/"
        },
        "outputId": "c9f0b3a6-7d34-49a1-f158-240575ceb278"
      },
      "source": [
        "cnf_matrix = metrics.confusion_matrix(y_test, y_pred)\n",
        "cnf_matrix"
      ],
      "execution_count": null,
      "outputs": [
        {
          "output_type": "execute_result",
          "data": {
            "text/plain": [
              "array([[33,  2,  1,  0],\n",
              "       [ 1, 40,  2,  0],\n",
              "       [ 2,  9, 17,  0],\n",
              "       [ 0,  0,  1, 24]])"
            ]
          },
          "metadata": {},
          "execution_count": 34
        }
      ]
    },
    {
      "cell_type": "code",
      "metadata": {
        "id": "umjWsHwoQMXh",
        "colab": {
          "base_uri": "https://localhost:8080/",
          "height": 338
        },
        "outputId": "9953b999-d5e6-4b19-bc02-3a167a865430"
      },
      "source": [
        "class_names=['Awareness','Irrelevant', 'Report', 'Treatment'] \n",
        "\n",
        "# Set fig and axes \n",
        "fig, ax = plt.subplots()\n",
        "tick_marks = np.arange(len(class_names))\n",
        "plt.xticks(tick_marks, class_names)\n",
        "plt.yticks(tick_marks, class_names)\n",
        "\n",
        "# Create heatmap\n",
        "sns.heatmap(pd.DataFrame(cnf_matrix), annot=True, cmap=\"YlGnBu\" ,fmt='g')\n",
        "ax.xaxis.set_label_position(\"top\")\n",
        "plt.tight_layout()\n",
        "plt.title('Confusion matrix', y=1.1)\n",
        "plt.ylabel('Actual label')\n",
        "plt.xlabel('Predicted label')"
      ],
      "execution_count": null,
      "outputs": [
        {
          "output_type": "execute_result",
          "data": {
            "text/plain": [
              "Text(0.5, 257.44, 'Predicted label')"
            ]
          },
          "metadata": {},
          "execution_count": 35
        },
        {
          "output_type": "display_data",
          "data": {
            "image/png": "[encoded data removed]",
            "text/plain": [
              "<Figure size 432x288 with 2 Axes>"
            ]
          },
          "metadata": {
            "needs_background": "light"
          }
        }
      ]
    },
    {
      "cell_type": "markdown",
      "metadata": {
        "id": "pLhWt1waOdWr"
      },
      "source": [
        "###Model 3: TfidVectoriser and SGDClassifier\n",
        "\n",
        "\n"
      ]
    },
    {
      "cell_type": "code",
      "metadata": {
        "id": "I8XKsv6kVI6_",
        "colab": {
          "base_uri": "https://localhost:8080/"
        },
        "outputId": "dc6d015c-0ace-4f51-b539-70fca3047650"
      },
      "source": [
        "from sklearn.linear_model import SGDClassifier\n",
        "from sklearn.feature_extraction.text import TfidfTransformer\n",
        "\n",
        "sgd = Pipeline([('vect', CountVectorizer()),\n",
        "                ('tfidf', TfidfTransformer()),\n",
        "                ('clf', SGDClassifier(loss='squared_loss', penalty='l2',alpha=1e-3, random_state=42, max_iter=10, tol=None)),\n",
        "               ])\n",
        "sgd.fit(X_train, y_train)\n",
        "\n",
        "y_pred = sgd.predict(X_test)\n",
        "\n",
        "print('Accuracy %s' % accuracy_score(y_pred, y_test))\n",
        "print(classification_report(y_test, y_pred,target_names = my_tags))"
      ],
      "execution_count": null,
      "outputs": [
        {
          "output_type": "stream",
          "name": "stdout",
          "text": [
            "Accuracy 0.8257575757575758\n",
            "              precision    recall  f1-score   support\n",
            "\n",
            "   Awareness       0.85      0.92      0.88        36\n",
            "  Irrelevant       0.80      0.81      0.80        43\n",
            "      Report       0.70      0.57      0.63        28\n",
            "   Treatment       0.96      1.00      0.98        25\n",
            "\n",
            "    accuracy                           0.83       132\n",
            "   macro avg       0.82      0.83      0.82       132\n",
            "weighted avg       0.82      0.83      0.82       132\n",
            "\n"
          ]
        },
        {
          "output_type": "stream",
          "name": "stderr",
          "text": [
            "/usr/local/lib/python3.7/dist-packages/sklearn/linear_model/_stochastic_gradient.py:169: FutureWarning: The loss 'squared_loss' was deprecated in v1.0 and will be removed in version 1.2. Use `loss='squared_error'` which is equivalent.\n",
            "  FutureWarning,\n"
          ]
        }
      ]
    }
  ]
}